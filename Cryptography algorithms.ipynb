{
 "cells": [
  {
   "cell_type": "markdown",
   "metadata": {},
   "source": [
    "Cryptography - With Python"
   ]
  },
  {
   "cell_type": "markdown",
   "metadata": {},
   "source": [
    "1. Reverse Cipher Algorithm"
   ]
  },
  {
   "cell_type": "code",
   "execution_count": 1,
   "metadata": {},
   "outputs": [],
   "source": [
    "def rcipher(message):\n",
    "    cipher = ''\n",
    "    i = len(message) - 1\n",
    "    while i >= 0:\n",
    "        cipher = cipher + message[i]\n",
    "        i = i - 1\n",
    "    return cipher"
   ]
  },
  {
   "cell_type": "code",
   "execution_count": 2,
   "metadata": {},
   "outputs": [
    {
     "name": "stdout",
     "output_type": "stream",
     "text": [
      "Enter your message: My name is Prajwal Chettri\n"
     ]
    }
   ],
   "source": [
    "message = input(\"Enter your message: \")"
   ]
  },
  {
   "cell_type": "code",
   "execution_count": 3,
   "metadata": {},
   "outputs": [
    {
     "name": "stdout",
     "output_type": "stream",
     "text": [
      "Your message is: My name is Prajwal Chettri\n"
     ]
    }
   ],
   "source": [
    "print(\"Your message is: \" +  message)"
   ]
  },
  {
   "cell_type": "code",
   "execution_count": 4,
   "metadata": {},
   "outputs": [
    {
     "name": "stdout",
     "output_type": "stream",
     "text": [
      "Cipher text is: irttehC lawjarP si eman yM\n"
     ]
    }
   ],
   "source": [
    "print ('Cipher text is: ' + rcipher(message))"
   ]
  },
  {
   "cell_type": "markdown",
   "metadata": {},
   "source": [
    "2. Caesar's cipher"
   ]
  },
  {
   "cell_type": "code",
   "execution_count": 5,
   "metadata": {},
   "outputs": [],
   "source": [
    "def ccipher_encrypt(message,key):\n",
    "    cipher = ''\n",
    "    for i in range (len(message)):\n",
    "        char = message[i]\n",
    "        \n",
    "        if (char.isupper()):\n",
    "            cipher += chr((ord(char) + key - 65) % 26 + 65)\n",
    "        else:\n",
    "            cipher += chr((ord(char) + key - 97) % 26 + 97)\n",
    "    return cipher    "
   ]
  },
  {
   "cell_type": "code",
   "execution_count": 6,
   "metadata": {},
   "outputs": [
    {
     "name": "stdout",
     "output_type": "stream",
     "text": [
      "Enter your message: My name is Prajwal Chettri\n"
     ]
    }
   ],
   "source": [
    "message = input(\"Enter your message: \")"
   ]
  },
  {
   "cell_type": "code",
   "execution_count": 7,
   "metadata": {},
   "outputs": [
    {
     "name": "stdout",
     "output_type": "stream",
     "text": [
      "Enter your key: 7\n"
     ]
    }
   ],
   "source": [
    "key = int(input(\"Enter your key: \"))"
   ]
  },
  {
   "cell_type": "code",
   "execution_count": 9,
   "metadata": {},
   "outputs": [
    {
     "name": "stdout",
     "output_type": "stream",
     "text": [
      "Your message is: My name is Prajwal Chettri\n",
      "Key: 7\n",
      "Cipher text: TfuuhtlupzuWyhqdhsuJolaayp\n"
     ]
    }
   ],
   "source": [
    "print(\"Your message is: \" + message)\n",
    "print(\"Key: \" + str(key))\n",
    "print(\"Cipher text: \" + ccipher_encrypt(message,key))"
   ]
  },
  {
   "cell_type": "code",
   "execution_count": 64,
   "metadata": {},
   "outputs": [],
   "source": [
    "def ccipher_decrypt(encrypted_message):\n",
    "    real_message = ' '\n",
    "    for i in range (len(encrypted_message)):\n",
    "        char = encrypted_message[i]\n",
    "        \n",
    "        if (char.isupper()):\n",
    "            real_message += chr((ord(char) - key - 65) % 26 + 65) #For uppercase alphabets\n",
    "        else:\n",
    "            real_message += chr((ord(char) - key - 97) % 26 + 97) #For lowercase alphabets\n",
    "       \n",
    "    return real_message "
   ]
  },
  {
   "cell_type": "code",
   "execution_count": 65,
   "metadata": {},
   "outputs": [],
   "source": [
    "encrypted_message = ccipher_encrypt(message,key)"
   ]
  },
  {
   "cell_type": "code",
   "execution_count": 67,
   "metadata": {},
   "outputs": [
    {
     "name": "stdout",
     "output_type": "stream",
     "text": [
      "Your encrypted message is: TfuuhtlupzuWyhqdhsuJolaayp\n",
      "Key: 7\n",
      "Decrypted text:  MynnamenisnPrajwalnChettri\n"
     ]
    }
   ],
   "source": [
    "print(\"Your encrypted message is: \" + encrypted_message)\n",
    "print(\"Key: \" + str(key))\n",
    "print(\"Decrypted text: \" + ccipher_decrypt(encrypted_message))"
   ]
  },
  {
   "cell_type": "code",
   "execution_count": null,
   "metadata": {},
   "outputs": [],
   "source": []
  }
 ],
 "metadata": {
  "kernelspec": {
   "display_name": "Python 3",
   "language": "python",
   "name": "python3"
  },
  "language_info": {
   "codemirror_mode": {
    "name": "ipython",
    "version": 3
   },
   "file_extension": ".py",
   "mimetype": "text/x-python",
   "name": "python",
   "nbconvert_exporter": "python",
   "pygments_lexer": "ipython3",
   "version": "3.8.5"
  }
 },
 "nbformat": 4,
 "nbformat_minor": 4
}
